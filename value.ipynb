{
 "cells": [
  {
   "cell_type": "code",
   "execution_count": 12,
   "metadata": {},
   "outputs": [
    {
     "name": "stdout",
     "output_type": "stream",
     "text": [
      "Good Pin\n"
     ]
    }
   ],
   "source": [
    "def validate():\n",
    "    goodnum = ['1234', '4321']\n",
    "    value = input('Enter a pin: ')\n",
    "    if value in goodnum:\n",
    "        print('Try another number')\n",
    "    else:\n",
    "        print('Good Pin')\n",
    "    #while type(value) == int:\n",
    "       # while value in goodnum == False:\n",
    "        #    print('Good num')\n",
    "       # if value in goodnum:\n",
    "         #   print(\"You can't use that\")\n",
    "       # else:\n",
    "       #     print(\"Good pin\")\n",
    "      #  break\n",
    "\n",
    "validate()"
   ]
  },
  {
   "cell_type": "code",
   "execution_count": null,
   "metadata": {},
   "outputs": [],
   "source": []
  },
  {
   "cell_type": "code",
   "execution_count": null,
   "metadata": {},
   "outputs": [],
   "source": []
  }
 ],
 "metadata": {
  "kernelspec": {
   "display_name": "Python 3",
   "language": "python",
   "name": "python3"
  },
  "language_info": {
   "codemirror_mode": {
    "name": "ipython",
    "version": 3
   },
   "file_extension": ".py",
   "mimetype": "text/x-python",
   "name": "python",
   "nbconvert_exporter": "python",
   "pygments_lexer": "ipython3",
   "version": "3.10.11"
  },
  "orig_nbformat": 4
 },
 "nbformat": 4,
 "nbformat_minor": 2
}
